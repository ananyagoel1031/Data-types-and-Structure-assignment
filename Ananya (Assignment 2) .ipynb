{
 "cells": [
  {
   "cell_type": "markdown",
   "id": "bee74397-adf8-4e0b-ac5c-4cd879374859",
   "metadata": {},
   "source": [
    "# Assignment -2"
   ]
  },
  {
   "cell_type": "markdown",
   "id": "ed02bb57-ef10-4892-8be0-976923eeb520",
   "metadata": {},
   "source": [
    "## Data Types and Structures Questions "
   ]
  },
  {
   "cell_type": "markdown",
   "id": "1714e9d2-7f1f-4d87-82f0-6556c12e10d1",
   "metadata": {},
   "source": [
    "### Q1. What are data structures, and why are they important? "
   ]
  },
  {
   "cell_type": "markdown",
   "id": "f7eda5bb-256d-417f-a6b1-48e01a5f6196",
   "metadata": {},
   "source": [
    "#### A1. Data structure is a way of organizing data so that it can be manipulated and accessed easily.\n",
    "\n",
    "#### They are important because:\n",
    "#### 1. They help in accessing the data.\n",
    "#### 2. They help to rectify our mistakes by allowing manipulation such as adding, removing,etc.\n",
    "#### 3. They help to concatenate two data structures into one.\n",
    "#### 4. These data structures can contain heterogenous and homogeneous datas as well."
   ]
  },
  {
   "cell_type": "markdown",
   "id": "a5ac2e2b-7040-4341-82e8-341bca587a5d",
   "metadata": {},
   "source": [
    "### Q2. Explain the difference between mutable and immutable data types with examples?"
   ]
  },
  {
   "cell_type": "markdown",
   "id": "1d09af2d-4083-4138-bcd7-45f97996f6e8",
   "metadata": {},
   "source": [
    "#### A2. Mutable Data types are the data types which can be manipulated. Like, the data values can be added, removed, replaced by some other value,etc. Example: List data type is mutable.\n",
    "\n",
    "#### While, immuatble data types are the data types which cannot be modified once created. That means, the data values cannot be edited like adding, replacing,etc. For example: set, tuple are immuatble data types."
   ]
  },
  {
   "cell_type": "markdown",
   "id": "c5c7051d-a1a4-4af6-9112-18d1ca183198",
   "metadata": {},
   "source": [
    "### Q3.  What are the main differences between lists and tuples in Python?"
   ]
  },
  {
   "cell_type": "markdown",
   "id": "9cd574f1-6c75-490b-89f5-4a4838dac6d2",
   "metadata": {},
   "source": [
    "#### Difference between:\n",
    "#### Lists: This data type can store heterogeneous data. It is an ordered collection of elements that can be of any data type.It is mutable data types that is, the list elements can be modified even after it is created.\n",
    "#### Example: \n",
    "#### lis=[1,2,3,\"Ajay\",3+6j]\n",
    "####          lis[0]=4\n",
    "####          lis \n",
    "#### It gives output: [4,2,3,\"Ajay\",3+6j]\n",
    "\n",
    "#### Tuples: This data type can store heterogeneous data. It is an ordered collection of elements that can be of any data type. It is immutable data type that is it cannot be modified once created.So, it is useful to store only that data which does not need any modification in future.\n",
    "#### Example: \n",
    "#### tup=(1,2,3,\"Ajay\",2+5j)\n",
    "####          tup[0]=4\n",
    "####          tup \n",
    "#### It gives an error as tuple is immutable."
   ]
  },
  {
   "cell_type": "markdown",
   "id": "9362583f-1683-44cd-bb33-c9e2eb5aa80d",
   "metadata": {},
   "source": [
    "### Q4. Describe how dictionaries store data."
   ]
  },
  {
   "cell_type": "markdown",
   "id": "3a0b818e-7a6e-4591-bddf-5db97c9462ab",
   "metadata": {},
   "source": [
    "#### A4. Dictionaries in Python are a built-in data structure that store data in key-value pairs. They are highly efficient for operations like searching, inserting, and deleting due to their underlying implementation using hashing.\n",
    "#### Dictionaries are mutable, meaning their contents can be changed after creation. Keys in a dictionary must be unique and immutable (e.g., strings, numbers, or tuples), while values can be of any data type and may be duplicated. \n",
    "#### Syntax: dict={key:value}\n",
    "#### Example:\n",
    "#### dict={\"name\":\"Ananya\",\"Course\":\"Data Science\"}"
   ]
  },
  {
   "cell_type": "markdown",
   "id": "2886c234-8b34-4e6c-9d09-e4f488fb6321",
   "metadata": {},
   "source": [
    "### Q5. Why might you use a set instead of a list in Python?"
   ]
  },
  {
   "cell_type": "markdown",
   "id": "357dc6c8-a00d-413b-8afd-a385aba22d5a",
   "metadata": {},
   "source": [
    "#### A5. Sets are the unordered collection of unique elements. It is immutable data type. \n",
    "#### We use set instead of list when we require the collection of unique elements only, no duplicate values are needed.\n",
    "#### Example: We want to make a grocery items list for shopping. Your mother asks you and your brother to make the list as per your needs. So, to add the list without copying the same item again, we use sets instead of lists."
   ]
  },
  {
   "cell_type": "markdown",
   "id": "c7215f35-408a-4874-8071-5faf2a728faf",
   "metadata": {},
   "source": [
    "### Q6. What is a string in Python, and how is it different from a list?"
   ]
  },
  {
   "cell_type": "markdown",
   "id": "1aa2eb29-a3e6-4562-938d-ee52a7d5700e",
   "metadata": {},
   "source": [
    "#### A6. A string in Python is a sequence of characters enclosed in either single quotes ('), double quotes (\"), or triple quotes (''' or \"\"\"). Strings are used to represent text data, such as words, sentences, or any combination of characters.\n",
    "\n",
    "#### String differs from list in the following manner:\n",
    "#### 1. String is immutable data type while list is mutable.\n",
    "#### 2. String stores only the collection of characters while lists can store any data value.\n",
    "#### 3. String are enclosed in quotes while lists are enclosed in []."
   ]
  },
  {
   "cell_type": "markdown",
   "id": "9fbdddb4-b099-4f06-b875-c69edad43535",
   "metadata": {},
   "source": [
    "### Q7. How do tuples ensure data integrity in Python?"
   ]
  },
  {
   "cell_type": "markdown",
   "id": "e6d0baf7-023c-4cb2-97f5-637b720699e9",
   "metadata": {},
   "source": [
    "#### A7. Tuples in Python help ensure data integrity primarily because they are immutable. This immutability provides several benefits that contribute to maintaining the consistency and reliability of data:\n",
    "#### 1. It can used as the key of the dictionary which ensure that the data remains unaltered.\n",
    "#### 2. Once a tuple is created, its elements cannot be modified, added, or removed. This ensures that the data remains consistent throughout the program's execution."
   ]
  },
  {
   "cell_type": "markdown",
   "id": "309c6ad3-a724-43ee-a1cf-ddd6c06d8832",
   "metadata": {},
   "source": [
    "### Q8. What is a hash table, and how does it relate to dictionaries in Python?"
   ]
  },
  {
   "cell_type": "markdown",
   "id": "9a24d68f-c8cd-483b-abd5-9205a872e65f",
   "metadata": {},
   "source": [
    "#### A8. A Hash table is defined as a data structure used to insert, look up, and remove key-value pairs quickly. It operates on the hashing concept, where each key is translated by a hash function into a distinct index in an array. The index functions as a storage location for the matching value. In simple words, it maps the keys with the value. \n",
    "\n",
    "#### Hashing is mainly used to implement a set of distinct items (only keys) and dictionaries (key value pairs). It helps to map keys of the dictionary to the corresponding values."
   ]
  },
  {
   "cell_type": "markdown",
   "id": "ee165f9e-6eaa-4b4a-951e-87f8b96d1e57",
   "metadata": {},
   "source": [
    "### Q9. Can lists contain different data types in Python?"
   ]
  },
  {
   "cell_type": "markdown",
   "id": "f14341f3-6191-452e-86e3-18e3667e683f",
   "metadata": {},
   "source": [
    "#### Yes, lists can store different data types. It can conatin heterogenous data values.\n",
    "#### For example: list= [1,2,[1,2,3],(3,4,5),\"string\",3+7j] is one such example."
   ]
  },
  {
   "cell_type": "markdown",
   "id": "0265be29-e3c1-4dc4-9f9b-f4d9d16cb60e",
   "metadata": {},
   "source": [
    "### Q10. Explain why strings are immutable in Python?"
   ]
  },
  {
   "cell_type": "markdown",
   "id": "4e45d07d-fcc5-4921-807a-3daef1a343d1",
   "metadata": {},
   "source": [
    "#### A10.Strings in Python are immutable, meaning once a string is created, it cannot be changed. This design choice is intentional and offers several advantages:\n",
    "\n",
    "#### 1. Reduce redundancy: by saving only one file out of the files with same name.\n",
    "#### 2. Consistency: Immutable objects, like strings, can be used as keys in dictionaries or elements in sets because their hash value remains constant. \n",
    "#### 3. Efficient: Operations like slicing or concatenation create new strings rather than modifying the original. "
   ]
  },
  {
   "cell_type": "markdown",
   "id": "40ff6787-c345-466c-935d-91a33d89f68f",
   "metadata": {},
   "source": [
    "### Q11. What advantages do dictionaries offer over lists for certain tasks?"
   ]
  },
  {
   "cell_type": "markdown",
   "id": "2a894e91-e14d-402c-a802-72eeec941509",
   "metadata": {},
   "source": [
    "#### A11. Dictionaries offer advantages over lists in the tasks where it is more efficient to mention the values under the same key, for easy accessibility.\n",
    "#### For example: In a hotel menu, we need to write the dishes such as sandwich, poha,etc., under the key as breakfast. Similarly, we can make other keys as lunch and dinner with their respective dish values, in a single dictionary. This helps us to save our time and memory by making a dictionary for the menu. Instead of making three separate lists for breakfast, lunch, dinner which increases the memory space complexity in accessibility. So, dictionary can save time and improve accessiblity in certain cases as above instead of lists."
   ]
  },
  {
   "cell_type": "markdown",
   "id": "677bfee7-5700-4196-965b-07ceff3be470",
   "metadata": {},
   "source": [
    "### Q12. Describe a scenario where using a tuple would be preferable over a list?"
   ]
  },
  {
   "cell_type": "markdown",
   "id": "8636e417-a6f4-4e06-a364-3794ba210c48",
   "metadata": {},
   "source": [
    "#### A12. A scenario where tuple is more preferable than a list is :\n",
    "#### When we want our data to remain fixed throughout the program execution, we use tuple because of its immutablity.Tuple is more memory efficient as it does not require extra space for modifications.\n",
    "\n",
    "#### For example: I want the data of my expenditure in a year to remain intact, so that I get to know where I am spending more.\n",
    "#### exp={2300,4500,6700,1200,...,8900}"
   ]
  },
  {
   "cell_type": "markdown",
   "id": "bd1f72bb-7927-4160-9f7c-3774449c2bd1",
   "metadata": {},
   "source": [
    "### Q13.  How do sets handle duplicate values in Python?"
   ]
  },
  {
   "cell_type": "markdown",
   "id": "97643e3b-e20e-4e04-8448-d2518615adbc",
   "metadata": {},
   "source": [
    "#### A13.In Python, sets automatically eliminate duplicate values. A set is an unordered collection of unique elements, meaning it does not allow duplicates. If you try to add duplicate values to a set, Python will only keep one instance of each unique value. \n",
    "#### So, we can handle duplicate values by typecasting the data type to sets."
   ]
  },
  {
   "cell_type": "markdown",
   "id": "625557b2-f9f6-401e-bb8f-646f6ad0a7d6",
   "metadata": {},
   "source": [
    "### Q14.  How does the “in” keyword work differently for lists and dictionaries?"
   ]
  },
  {
   "cell_type": "markdown",
   "id": "c355157a-2e56-423e-b89e-715c778ed77f",
   "metadata": {},
   "source": [
    "#### A14. When used with a list, the \"in\" keyword checks if a given value exists as an element of the list. It performs a linear search, meaning it iterates through the list until it finds the value or reaches the end.\n",
    "#### Example:\n",
    "#### li=[1,2,3,4]\n",
    "#### print(1 in li)\n",
    "#### It gives True as 1 is in the list li.\n",
    "\n",
    "#### For dictionaries, the \"in\" keyword checks for the presence of a key, not a value. If you want to check for a value, you need to use the .values() method explicitly.\n",
    "#### Example:\n",
    "#### my_dict = {'a': 1, 'b': 2, 'c': 3}\n",
    "#### print('a' in my_dict) # Output: True (checks for key)\n",
    "#### print(1 in my_dict) # Output: False (does not check values)"
   ]
  },
  {
   "cell_type": "markdown",
   "id": "7480a913-e16b-48fc-8176-937d285a226c",
   "metadata": {},
   "source": [
    "### Q15. Can you modify the elements of a tuple? Explain why or why not?"
   ]
  },
  {
   "cell_type": "markdown",
   "id": "11f0b862-2447-40c6-b6f6-cf6f5bc5b2b2",
   "metadata": {},
   "source": [
    "#### A15. Tuples in Python are immutable, meaning their elements cannot be changed directly. However, you can create a new tuple with the desired changes.\n",
    "#### Example: \n",
    "#### Original tuple\n",
    "#### t = ('apple', 'banana', 'cherry')\n",
    "\n",
    "#### lst = list(t) #Convert to list to modify\n",
    "#### lst[1] = 'kiwi'\n",
    "\n",
    "#### t = tuple(lst) #converting list to tuple\n",
    "#### print(t) # Output: ('apple', 'kiwi', 'cherry')"
   ]
  },
  {
   "cell_type": "markdown",
   "id": "3028c622-27d2-4059-8959-f9513d3e3ad8",
   "metadata": {},
   "source": [
    "### Q16.  What is a nested dictionary, and give an example of its use case?"
   ]
  },
  {
   "cell_type": "markdown",
   "id": "e13b7592-79b8-460b-8016-634c65aaaf47",
   "metadata": {},
   "source": [
    "#### A nested dictionary in Python is a dictionary inside another dictionary. This allows you to store complex data structures in a single dictionary. Each key in the outer dictionary can map to another dictionary, enabling hierarchical data storage.\n",
    "\n",
    "#### Example: \n",
    "#### people = {1: {'name': 'John', 'age': '27', 'sex': 'Male'}, 2: {'name': 'Marie', 'age': '22', 'sex': 'Female'}}\n",
    "#### print(people)"
   ]
  },
  {
   "cell_type": "markdown",
   "id": "0311f57b-9071-41c6-b306-273ce1f2c78c",
   "metadata": {},
   "source": [
    "### Q17. Describe the time complexity of accessing elements in a dictionary?"
   ]
  },
  {
   "cell_type": "markdown",
   "id": "2af52964-84b0-4e1d-9b69-cc1b9895c2b4",
   "metadata": {},
   "source": [
    "#### A17. Python dictionaries provide a fast and efficient way to store and retrieve data using key value pair so understanding the time complexities of dictionary operations is very important for optimizing performance in our programs.\n",
    "#### The time complexity of retrieving a value by its key in a dictionary is O(1). This is because dictionaries use a hash table internally which allows constant time lookup.\n",
    "\n",
    "#### Example: # Create a dictionary\n",
    "#### dict = {'a': 1, 'b': 2, 'c': 3}\n",
    "#### val = dict['b'] # Access value by key\n",
    "#### print(val)"
   ]
  },
  {
   "cell_type": "markdown",
   "id": "29d78e2b-853e-4351-9cc0-222c8c85cb96",
   "metadata": {},
   "source": [
    "### Q18. In what situations are lists preferred over dictionaries?"
   ]
  },
  {
   "cell_type": "markdown",
   "id": "34254406-26a1-43b2-ba90-160dd1b009fc",
   "metadata": {},
   "source": [
    "#### A18. Lists are preferred over dictionaries in the situation where we need an Ordered Data with duplicate values and quick access to elements by indexing. It is used when we need to perform operations like slicing, sorting,etc.\n",
    "#### Example: In a class of 30 students, we need a data list of each student. But there are two students with same name, so here, we cannot use dictionary as key must be unique and it will treat both the students as one. So, here we can use list data type to store datas of each students with repeating names."
   ]
  },
  {
   "cell_type": "markdown",
   "id": "dc99dfec-2ddd-4c4a-b1f5-057c297e660d",
   "metadata": {},
   "source": [
    "### Q19. Why are dictionaries considered unordered, and how does that affect data retrieval?"
   ]
  },
  {
   "cell_type": "markdown",
   "id": "5f633034-e591-4579-b58f-d11f6b57e5a3",
   "metadata": {},
   "source": [
    "#### A19. A dictionary is termed an unordered collection of objects because dictionaries do not maintain any inherent order of the items based on when they were added. This meant that when you accessed or printed the items, the order could vary, as dictionaries were optimized for fast lookups rather than maintaining order.\n",
    "\n",
    "#### So, we cannot call the value using indexing. We can access values using key only. As each time dictionary would shuffle the order of the {key:value} pairs. It does affect the data retrieval thorugh indexing. Everytime, we need to use key for accessing the corresponding value."
   ]
  },
  {
   "cell_type": "markdown",
   "id": "0227f508-9fba-42ae-943c-6ae9ac817648",
   "metadata": {},
   "source": [
    "### Q20.  Explain the difference between a list and a dictionary in terms of data retrieval."
   ]
  },
  {
   "cell_type": "markdown",
   "id": "c6c1f3d0-4f45-47b2-8b93-bb98de4446ad",
   "metadata": {},
   "source": [
    "#### A20. Lists allow random access to elements using indices, which start from 0. Lists are mutable, meaning you can modify their elements after creation. You can retrieve data using indexing. For example:\n",
    "#### myList=[5,9,8]\n",
    "#### myList[0] # gives 5 as output as 0th indexed element of the list is 5\n",
    "\n",
    "####  Dictionaries allow random access to values using keys, which must be of an immutable data type (e.g., integers, strings, tuples). Dictionaries are also mutable, allowing you to add, modify, or remove key-value pairs.For example:\n",
    "#### myDict = {'Name': 'Geeta', 1: [1, 2, 3, 4]}\n",
    "#### myDict['Name']#gives 'Geeta' as an ouput as Geeta corresponds to the key 'Name'."
   ]
  },
  {
   "cell_type": "markdown",
   "id": "765e61f7-9eb4-4880-ad3a-58f62f48123e",
   "metadata": {},
   "source": [
    "## Practice Questions"
   ]
  },
  {
   "cell_type": "markdown",
   "id": "c51fa3d0-6942-450f-864b-b9148de5d48c",
   "metadata": {},
   "source": [
    "### Q1. Write a code to create a string with your name and print it."
   ]
  },
  {
   "cell_type": "code",
   "execution_count": 68,
   "id": "2aac2396-438d-4004-9a89-2dfe8a0e055d",
   "metadata": {},
   "outputs": [
    {
     "data": {
      "text/plain": [
       "'Ananya'"
      ]
     },
     "execution_count": 68,
     "metadata": {},
     "output_type": "execute_result"
    }
   ],
   "source": [
    "name=\"Ananya\"\n",
    "name"
   ]
  },
  {
   "cell_type": "markdown",
   "id": "b76960d7-2029-4de5-9f68-ec3fc3c2234b",
   "metadata": {},
   "source": [
    "### Q2. Write a code to find the length of the string \"Hello World\""
   ]
  },
  {
   "cell_type": "code",
   "execution_count": 69,
   "id": "c5386d3a-b67d-474d-b4af-78d1d79988f3",
   "metadata": {},
   "outputs": [
    {
     "data": {
      "text/plain": [
       "11"
      ]
     },
     "execution_count": 69,
     "metadata": {},
     "output_type": "execute_result"
    }
   ],
   "source": [
    "st=\"hello World\"\n",
    "len(st)#gives length of the string"
   ]
  },
  {
   "cell_type": "markdown",
   "id": "59a42bd7-bc76-413d-bb8f-70e983dea536",
   "metadata": {},
   "source": [
    "### Q3. Write a code to slice the first 3 characters from the string \"Python Programming\"."
   ]
  },
  {
   "cell_type": "code",
   "execution_count": 70,
   "id": "544495aa-8347-4a59-9c4d-07e79bd32a28",
   "metadata": {},
   "outputs": [
    {
     "data": {
      "text/plain": [
       "'Pyt'"
      ]
     },
     "execution_count": 70,
     "metadata": {},
     "output_type": "execute_result"
    }
   ],
   "source": [
    "s=\"Python Programming\"\n",
    "s[:3]#slice the first 3 characters from the string"
   ]
  },
  {
   "cell_type": "markdown",
   "id": "9c35dcea-93f0-4924-8d0a-fc48e68283bf",
   "metadata": {},
   "source": [
    "### Q4. Write a code to convert the string \"hello\" to uppercase."
   ]
  },
  {
   "cell_type": "code",
   "execution_count": 71,
   "id": "b9f4640f-d6c7-4a25-85b9-a95c407ac516",
   "metadata": {},
   "outputs": [
    {
     "data": {
      "text/plain": [
       "'HELLO'"
      ]
     },
     "execution_count": 71,
     "metadata": {},
     "output_type": "execute_result"
    }
   ],
   "source": [
    "string=\"hello\"\n",
    "string.upper()#in uppercase"
   ]
  },
  {
   "cell_type": "markdown",
   "id": "a7c60f41-455c-459e-a1af-d8b57109a2dc",
   "metadata": {},
   "source": [
    "### Q5.  Write a code to replace the word \"apple\" with \"orange\" in the string \"I like apple\"."
   ]
  },
  {
   "cell_type": "code",
   "execution_count": 72,
   "id": "87be048c-035a-48bf-ac48-c440cac0eb27",
   "metadata": {},
   "outputs": [
    {
     "data": {
      "text/plain": [
       "'I like orange'"
      ]
     },
     "execution_count": 72,
     "metadata": {},
     "output_type": "execute_result"
    }
   ],
   "source": [
    "st=\"I like apple\"\n",
    "st.replace(\"apple\",\"orange\")#replace apple with orange"
   ]
  },
  {
   "cell_type": "markdown",
   "id": "8bfd5f30-cf14-4c24-9d52-7a384a9b62fd",
   "metadata": {},
   "source": [
    "### Q6. Write a code to create a list with numbers 1 to 5 and print it."
   ]
  },
  {
   "cell_type": "code",
   "execution_count": 73,
   "id": "ab46cdd6-f77d-4b3b-b6d8-241e5a137df7",
   "metadata": {},
   "outputs": [
    {
     "name": "stdout",
     "output_type": "stream",
     "text": [
      "[1, 2, 3, 4, 5]\n"
     ]
    }
   ],
   "source": [
    "l=[]\n",
    "for i in range(1,6):\n",
    "    l.append(i)\n",
    "print(l)"
   ]
  },
  {
   "cell_type": "markdown",
   "id": "d2843ee5-2c3a-43fb-ae18-4bfe22967d2c",
   "metadata": {},
   "source": [
    "### Q7. Write a code to append the number 10 to the list [1, 2, 3, 4]."
   ]
  },
  {
   "cell_type": "code",
   "execution_count": 74,
   "id": "d42fbc72-93de-413e-b5c8-bcf05feee9fd",
   "metadata": {},
   "outputs": [
    {
     "data": {
      "text/plain": [
       "[1, 2, 3, 4, 10]"
      ]
     },
     "execution_count": 74,
     "metadata": {},
     "output_type": "execute_result"
    }
   ],
   "source": [
    "li=[1,2,3,4]\n",
    "li.append(10) #append 10 in the list\n",
    "li"
   ]
  },
  {
   "cell_type": "markdown",
   "id": "7f1a6c0a-039c-45a2-b21f-52794fdc5244",
   "metadata": {},
   "source": [
    "### Q8. Write a code to remove the number 3 from the list [1, 2, 3, 4, 5]."
   ]
  },
  {
   "cell_type": "code",
   "execution_count": 75,
   "id": "d07a016c-9f7c-45c6-ae24-9edf9763c443",
   "metadata": {},
   "outputs": [
    {
     "data": {
      "text/plain": [
       "[1, 2, 4, 5]"
      ]
     },
     "execution_count": 75,
     "metadata": {},
     "output_type": "execute_result"
    }
   ],
   "source": [
    "li=[1,2,3,4,5]\n",
    "li.remove(3)#removes 3 from the list\n",
    "li"
   ]
  },
  {
   "cell_type": "markdown",
   "id": "06af373c-ccd5-4396-a686-995dc291907a",
   "metadata": {},
   "source": [
    "### Q9.  Write a code to access the second element in the list ['a', 'b', 'c', 'd']."
   ]
  },
  {
   "cell_type": "code",
   "execution_count": 76,
   "id": "96b2e89b-0038-4f72-a8d7-0f1ac31bf777",
   "metadata": {},
   "outputs": [
    {
     "data": {
      "text/plain": [
       "'b'"
      ]
     },
     "execution_count": 76,
     "metadata": {},
     "output_type": "execute_result"
    }
   ],
   "source": [
    "li=['a','b','c','d']\n",
    "li[1]#access second element"
   ]
  },
  {
   "cell_type": "markdown",
   "id": "a75cd665-63e1-4eed-8403-d401d4fec77d",
   "metadata": {},
   "source": [
    "### Q10.  Write a code to reverse the list [10, 20, 30, 40, 50]."
   ]
  },
  {
   "cell_type": "code",
   "execution_count": 77,
   "id": "054448c4-192c-4bdc-a602-fb6dbe319c8f",
   "metadata": {},
   "outputs": [
    {
     "data": {
      "text/plain": [
       "[50, 40, 30, 20, 10]"
      ]
     },
     "execution_count": 77,
     "metadata": {},
     "output_type": "execute_result"
    }
   ],
   "source": [
    "li=[10,20,30,40,50]\n",
    "li.reverse()#reverse the list\n",
    "li"
   ]
  },
  {
   "cell_type": "markdown",
   "id": "9759c3d6-7ad9-48d3-b33f-274f40963cdb",
   "metadata": {},
   "source": [
    "### Q11. Write a code to create a tuple with the elements 100, 200, 300 and print it."
   ]
  },
  {
   "cell_type": "code",
   "execution_count": 78,
   "id": "bc29fb20-6e99-4bba-9bb0-ba00ad9ad791",
   "metadata": {},
   "outputs": [
    {
     "name": "stdout",
     "output_type": "stream",
     "text": [
      "(100, 200, 300)\n"
     ]
    },
    {
     "data": {
      "text/plain": [
       "tuple"
      ]
     },
     "execution_count": 78,
     "metadata": {},
     "output_type": "execute_result"
    }
   ],
   "source": [
    "tup=(100,200,300)\n",
    "print(tup)\n",
    "type(tup)"
   ]
  },
  {
   "cell_type": "markdown",
   "id": "5d6c044a-58d3-4fb8-9ab4-fdff0e2bb85d",
   "metadata": {},
   "source": [
    "### Q12. Write a code to access the second-to-last element of the tuple ('red', 'green', 'blue', 'yellow')."
   ]
  },
  {
   "cell_type": "code",
   "execution_count": 79,
   "id": "c5eb2880-000e-4243-9887-9e2761d42215",
   "metadata": {},
   "outputs": [
    {
     "data": {
      "text/plain": [
       "('green', 'blue', 'yellow')"
      ]
     },
     "execution_count": 79,
     "metadata": {},
     "output_type": "execute_result"
    }
   ],
   "source": [
    "tup=('red','green','blue','yellow')\n",
    "tup[1:]#giving second to last element of the tuple"
   ]
  },
  {
   "cell_type": "markdown",
   "id": "1a38f99e-dd19-4e96-8103-f425010c3813",
   "metadata": {},
   "source": [
    "### Q13. Write a code to find the minimum number in the tuple (10, 20, 5, 15)."
   ]
  },
  {
   "cell_type": "code",
   "execution_count": 80,
   "id": "3e3b4d7c-60c8-42f8-85b8-f68f01b64ed6",
   "metadata": {},
   "outputs": [
    {
     "data": {
      "text/plain": [
       "5"
      ]
     },
     "execution_count": 80,
     "metadata": {},
     "output_type": "execute_result"
    }
   ],
   "source": [
    "tup=(10,20,5,15)\n",
    "min(tup)#to give minimum number of the tuple"
   ]
  },
  {
   "cell_type": "markdown",
   "id": "9cad2748-180d-442e-80f9-81c2b1f160c2",
   "metadata": {},
   "source": [
    "### Q14.  Write a code to find the index of the element \"cat\" in the tuple ('dog', 'cat', 'rabbit')."
   ]
  },
  {
   "cell_type": "code",
   "execution_count": 81,
   "id": "0ed85993-29db-472e-a935-4b1f9401b4f8",
   "metadata": {},
   "outputs": [
    {
     "data": {
      "text/plain": [
       "1"
      ]
     },
     "execution_count": 81,
     "metadata": {},
     "output_type": "execute_result"
    }
   ],
   "source": [
    "tup=('dog','cat','rabbit')\n",
    "tup.index('cat')#to find the index of element cat in the tuple"
   ]
  },
  {
   "cell_type": "markdown",
   "id": "b2d915b0-aa56-4681-822d-88afcc9ff031",
   "metadata": {},
   "source": [
    "### Q15. Write a code to create a tuple containing three different fruits and check if \"kiwi\" is in it."
   ]
  },
  {
   "cell_type": "code",
   "execution_count": 82,
   "id": "7411787a-6b0a-4ce9-80a0-b952c9c792c0",
   "metadata": {},
   "outputs": [
    {
     "data": {
      "text/plain": [
       "False"
      ]
     },
     "execution_count": 82,
     "metadata": {},
     "output_type": "execute_result"
    }
   ],
   "source": [
    "tup=('apple','orange','banana')\n",
    "'kiwi' in tup #it gives false as kiwi is not in the tuple"
   ]
  },
  {
   "cell_type": "markdown",
   "id": "018cd4b7-9214-4f2b-bd53-8db524622c0a",
   "metadata": {},
   "source": [
    "### Q16. Write a code to create a set with the elements 'a', 'b', 'c' and print it."
   ]
  },
  {
   "cell_type": "code",
   "execution_count": 83,
   "id": "a7083d23-48a7-47b6-b541-712a7592d307",
   "metadata": {},
   "outputs": [
    {
     "name": "stdout",
     "output_type": "stream",
     "text": [
      "{'b', 'c', 'a'}\n"
     ]
    },
    {
     "data": {
      "text/plain": [
       "set"
      ]
     },
     "execution_count": 83,
     "metadata": {},
     "output_type": "execute_result"
    }
   ],
   "source": [
    "s={'a','b','c'}\n",
    "print(s)\n",
    "type(s)"
   ]
  },
  {
   "cell_type": "markdown",
   "id": "afa1d775-b306-4bec-a85d-3c0f4afc8b3d",
   "metadata": {},
   "source": [
    "### Q17.  Write a code to clear all elements from the set {1, 2, 3, 4, 5}."
   ]
  },
  {
   "cell_type": "code",
   "execution_count": 84,
   "id": "622db2ec-3221-4e89-9a44-25b4ba7ec9a7",
   "metadata": {},
   "outputs": [
    {
     "data": {
      "text/plain": [
       "set()"
      ]
     },
     "execution_count": 84,
     "metadata": {},
     "output_type": "execute_result"
    }
   ],
   "source": [
    "s={1,2,3,4,5}\n",
    "s.clear()\n",
    "s#it gives empty set as all the elements are cleared"
   ]
  },
  {
   "cell_type": "markdown",
   "id": "9031858c-aa48-45f1-aa22-ae9ecacc5131",
   "metadata": {},
   "source": [
    "### Q18. Write a code to remove the element 4 from the set {1, 2, 3, 4}."
   ]
  },
  {
   "cell_type": "code",
   "execution_count": 85,
   "id": "f82160c2-99c5-4a9f-9d11-3e39650e29f2",
   "metadata": {},
   "outputs": [
    {
     "data": {
      "text/plain": [
       "{1, 2, 3}"
      ]
     },
     "execution_count": 85,
     "metadata": {},
     "output_type": "execute_result"
    }
   ],
   "source": [
    "s={1,2,3,4}\n",
    "s.remove(4)#it removes the element 4 from the set\n",
    "s"
   ]
  },
  {
   "cell_type": "markdown",
   "id": "2b6abe0a-1bbd-4418-a0d4-6573e60141a4",
   "metadata": {},
   "source": [
    "### Q19.  Write a code to find the union of two sets {1, 2, 3} and {3, 4, 5}."
   ]
  },
  {
   "cell_type": "code",
   "execution_count": 98,
   "id": "9228c625-27b3-4fe1-8f9f-5fc14331082b",
   "metadata": {},
   "outputs": [
    {
     "data": {
      "text/plain": [
       "{1, 2, 3, 4, 5}"
      ]
     },
     "execution_count": 98,
     "metadata": {},
     "output_type": "execute_result"
    }
   ],
   "source": [
    "s1={1,2,3}\n",
    "s2={3,4,5}\n",
    "s1|s2#union of two sets"
   ]
  },
  {
   "cell_type": "markdown",
   "id": "b018e681-a167-4da2-934e-c70901df8e21",
   "metadata": {},
   "source": [
    "### Q20.  Write a code to find the intersection of two sets {1, 2, 3} and {2, 3, 4}."
   ]
  },
  {
   "cell_type": "code",
   "execution_count": 87,
   "id": "d637207c-8a5a-4279-960e-6c7e756abd38",
   "metadata": {},
   "outputs": [
    {
     "data": {
      "text/plain": [
       "{2, 3}"
      ]
     },
     "execution_count": 87,
     "metadata": {},
     "output_type": "execute_result"
    }
   ],
   "source": [
    "s1={1,2,3}\n",
    "s2={2,3,4}\n",
    "s1&s2#intersection of two sets"
   ]
  },
  {
   "cell_type": "markdown",
   "id": "e6d12945-3a18-4a92-90ba-bffc7f9a7b25",
   "metadata": {},
   "source": [
    "### Q21. Write a code to create a dictionary with the keys \"name\", \"age\", and \"city\", and print it."
   ]
  },
  {
   "cell_type": "code",
   "execution_count": 88,
   "id": "db9ace8a-1554-4b02-9d1f-f62f6ba6c305",
   "metadata": {},
   "outputs": [
    {
     "name": "stdout",
     "output_type": "stream",
     "text": [
      "{'name': 'Ananya', 'age': 24, 'city': 'Mumbai'}\n"
     ]
    },
    {
     "data": {
      "text/plain": [
       "dict"
      ]
     },
     "execution_count": 88,
     "metadata": {},
     "output_type": "execute_result"
    }
   ],
   "source": [
    "dic={\"name\":\"Ananya\",\"age\":24,\"city\":\"Mumbai\"}\n",
    "print(dic)\n",
    "type(dic)"
   ]
  },
  {
   "cell_type": "markdown",
   "id": "2f505fe8-3fd3-46ce-a9b3-2c027a1d15b7",
   "metadata": {},
   "source": [
    "### Q22. Write a code to add a new key-value pair \"country\": \"USA\" to the dictionary {'name': 'John', 'age': 25}."
   ]
  },
  {
   "cell_type": "code",
   "execution_count": 89,
   "id": "9b0d28b5-f80d-4fab-b69b-aa561a827216",
   "metadata": {},
   "outputs": [
    {
     "data": {
      "text/plain": [
       "{'name': 'John', 'age': 25, 'country': 'USA'}"
      ]
     },
     "execution_count": 89,
     "metadata": {},
     "output_type": "execute_result"
    }
   ],
   "source": [
    "dic={\"name\":\"John\",\"age\":25}\n",
    "dic[\"country\"]=\"USA\"#adding new key-value pair\n",
    "dic"
   ]
  },
  {
   "cell_type": "markdown",
   "id": "ebc53920-675e-4b2e-bf75-629b84441b1c",
   "metadata": {},
   "source": [
    "### Q23. Write a code to access the value associated with the key \"name\" in the dictionary {'name': 'Alice', 'age': 30}."
   ]
  },
  {
   "cell_type": "code",
   "execution_count": 90,
   "id": "f672a0e0-fa49-417c-83d2-0928b2851979",
   "metadata": {},
   "outputs": [
    {
     "data": {
      "text/plain": [
       "'Alice'"
      ]
     },
     "execution_count": 90,
     "metadata": {},
     "output_type": "execute_result"
    }
   ],
   "source": [
    "dic={\"name\":\"Alice\",\"age\":30}\n",
    "dic[\"name\"]#to access value associated with the key"
   ]
  },
  {
   "cell_type": "markdown",
   "id": "735c8c00-8de8-499e-aefc-d1eca75b4675",
   "metadata": {},
   "source": [
    "### Q24. Write a code to remove the key \"age\" from the dictionary {'name': 'Bob', 'age': 22, 'city': 'New York'}."
   ]
  },
  {
   "cell_type": "code",
   "execution_count": 91,
   "id": "c494734a-a617-4c31-9714-0b52f3663e55",
   "metadata": {},
   "outputs": [
    {
     "data": {
      "text/plain": [
       "{'name': 'Bob', 'city': 'New York'}"
      ]
     },
     "execution_count": 91,
     "metadata": {},
     "output_type": "execute_result"
    }
   ],
   "source": [
    "dic= {'name': 'Bob', 'age': 22, 'city': 'New York'}\n",
    "del dic[\"age\"]#to remove the key \"age\"\n",
    "dic"
   ]
  },
  {
   "cell_type": "markdown",
   "id": "2e5a4f35-147c-4395-a2e2-c3b993fb7f30",
   "metadata": {},
   "source": [
    "### Q25. Write a code to check if the key \"city\" exists in the dictionary {'name': 'Alice', 'city': 'Paris'}."
   ]
  },
  {
   "cell_type": "code",
   "execution_count": 92,
   "id": "6265ec24-83cf-47e0-9f45-0adeeb48d4f7",
   "metadata": {},
   "outputs": [
    {
     "name": "stdout",
     "output_type": "stream",
     "text": [
      "Key 'city' exists in the dictionary.\n"
     ]
    }
   ],
   "source": [
    "# Define the dictionary\n",
    "data = {'name': 'Alice', 'city': 'Paris'}\n",
    "\n",
    "# Check if the key \"city\" exists\n",
    "if 'city' in data:\n",
    "    print(\"Key 'city' exists in the dictionary.\")\n",
    "else:\n",
    "    print(\"Key 'city' does not exist in the dictionary.\")\n"
   ]
  },
  {
   "cell_type": "markdown",
   "id": "180061c3-82e6-4cbd-846f-7482c9dd7eb0",
   "metadata": {},
   "source": [
    "### Q26. Write a code to create a list, a tuple, and a dictionary, and print them all."
   ]
  },
  {
   "cell_type": "code",
   "execution_count": 93,
   "id": "b82a2ef5-e521-4d91-bd9c-7a6df5d1a638",
   "metadata": {},
   "outputs": [
    {
     "name": "stdout",
     "output_type": "stream",
     "text": [
      "[1, 2, 3, 4]\n",
      "{1, 2, 3, 4}\n",
      "{'name': 'Ananya', 'course': 'Data science'}\n"
     ]
    }
   ],
   "source": [
    "my_list=[1,2,3,4]\n",
    "my_tuple={1,2,3,4}\n",
    "my_dict={'name':'Ananya','course':'Data science'}\n",
    "\n",
    "print(my_list)#list\n",
    "print(my_tuple)#tuple\n",
    "print(my_dict)#dictionary"
   ]
  },
  {
   "cell_type": "markdown",
   "id": "30d41a29-5f4d-48cd-8dc1-1811c51c3dc4",
   "metadata": {},
   "source": [
    "### Q27.  Write a code to create a list of 5 random numbers between 1 and 100, sort it in ascending order, and print the result."
   ]
  },
  {
   "cell_type": "code",
   "execution_count": 94,
   "id": "09e612b2-f95d-4cc0-92ac-0fcf44d6e325",
   "metadata": {},
   "outputs": [
    {
     "name": "stdout",
     "output_type": "stream",
     "text": [
      "Sorted random numbers: [3, 28, 53, 89, 91]\n"
     ]
    }
   ],
   "source": [
    "import random\n",
    "\n",
    "# Generate a list of 5 random numbers between 1 and 100\n",
    "random_numbers = [random.randint(1, 100) for _ in range(5)]\n",
    "\n",
    "# Sort the list in ascending order\n",
    "random_numbers.sort()\n",
    "\n",
    "# Print the sorted list\n",
    "print(\"Sorted random numbers:\", random_numbers)\n"
   ]
  },
  {
   "cell_type": "markdown",
   "id": "7e25cb83-0fe9-469a-bedf-89ced016604e",
   "metadata": {},
   "source": [
    "### Q28. Write a code to create a list with strings and print the element at the third index."
   ]
  },
  {
   "cell_type": "code",
   "execution_count": 95,
   "id": "a1784a9f-a813-4b5e-b175-4ad80fc77461",
   "metadata": {},
   "outputs": [
    {
     "data": {
      "text/plain": [
       "'Guava'"
      ]
     },
     "execution_count": 95,
     "metadata": {},
     "output_type": "execute_result"
    }
   ],
   "source": [
    "my_list=[\"Apple\",\"Banana\",\"Orange\",\"Guava\",\"Grapes\"]\n",
    "my_list[3]#to get the third indexed elements"
   ]
  },
  {
   "cell_type": "markdown",
   "id": "bd098868-5001-434f-9e8d-0ceb52ea9b01",
   "metadata": {},
   "source": [
    "### Q29. Write a code to combine two dictionaries into one and print the result."
   ]
  },
  {
   "cell_type": "code",
   "execution_count": 96,
   "id": "871f983b-f5fe-4430-953b-14d37ed1860e",
   "metadata": {},
   "outputs": [
    {
     "data": {
      "text/plain": [
       "{'name': 'Ananya', 'age': 23}"
      ]
     },
     "execution_count": 96,
     "metadata": {},
     "output_type": "execute_result"
    }
   ],
   "source": [
    "dict1={'name':'Ananya'}\n",
    "dict2={'age':23}\n",
    "dict1|dict2#combining two dictionaries"
   ]
  },
  {
   "cell_type": "markdown",
   "id": "6dbcd925-beed-4970-bc59-885992e404ec",
   "metadata": {},
   "source": [
    "### Q30.  Write a code to convert a list of strings into a set."
   ]
  },
  {
   "cell_type": "code",
   "execution_count": 97,
   "id": "103ca510-b6ea-403b-b88b-bd37642f9d06",
   "metadata": {},
   "outputs": [
    {
     "name": "stdout",
     "output_type": "stream",
     "text": [
      "{'Orange', 'Apple', 'Banana', 'Grapes', 'Guava'}\n"
     ]
    }
   ],
   "source": [
    "my_list=[\"Apple\",\"Banana\",\"Orange\",\"Guava\",\"Grapes\"]\n",
    "type(my_list)\n",
    "\n",
    "#converting list to set\n",
    "my_set=set(my_list)\n",
    "print(my_set)"
   ]
  }
 ],
 "metadata": {
  "kernelspec": {
   "display_name": "Python [conda env:base] *",
   "language": "python",
   "name": "conda-base-py"
  },
  "language_info": {
   "codemirror_mode": {
    "name": "ipython",
    "version": 3
   },
   "file_extension": ".py",
   "mimetype": "text/x-python",
   "name": "python",
   "nbconvert_exporter": "python",
   "pygments_lexer": "ipython3",
   "version": "3.13.5"
  }
 },
 "nbformat": 4,
 "nbformat_minor": 5
}
